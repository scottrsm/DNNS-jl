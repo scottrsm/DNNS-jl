{
 "cells": [
  {
   "cell_type": "markdown",
   "id": "05353c22-1b9c-474f-8c23-44d3b07a5de7",
   "metadata": {},
   "source": [
    "## Example Auto-Encoder using Package DNN (Deep Neural Network\n",
    "Use the Deep Learning Neural Network package, DNN, to create an \n",
    "auto-encoder representing a noisy straight line."
   ]
  },
  {
   "cell_type": "markdown",
   "id": "9548f9c2-10be-4072-9b26-189381d48570",
   "metadata": {},
   "source": [
    "### Fit the DNN"
   ]
  },
  {
   "cell_type": "code",
   "execution_count": null,
   "id": "3fb486b9-64f7-4f54-b7be-7734925cf226",
   "metadata": {},
   "outputs": [],
   "source": [
    "using DNNS\n",
    "import Random\n",
    "using Plots"
   ]
  },
  {
   "cell_type": "code",
   "execution_count": null,
   "id": "668696a4-4d89-4862-ac3f-9e4baa288d00",
   "metadata": {},
   "outputs": [],
   "source": [
    "# Parameters use to specify the two layers of the DNN.\n",
    "N = 100                          \n",
    "M = 2\n",
    "\n",
    "# Randomized matrices and bias vectors used for for the two layers.\n",
    "Random.seed!(1)\n",
    "M1 = rand(M, N)                                                                 \n",
    "b1 = rand(M)                                                                    \n",
    "M2 = rand(N, M)                                                                 \n",
    "b2 = rand(N)         \n",
    "\n",
    "# Create an Auto-Encoder 2-layer Deep Neural Network.\n",
    "dnn = DNN([DLayer(M1, b1, sigmoid1), DLayer(M2, b2, relu)]) \n",
    "\n",
    "# Create 1-dimensional grid of 100 points.\n",
    "x = collect(0.01:0.01:1.0)\n",
    "\n",
    "# Create a simple linear function on this grid with noise added.\n",
    "y = 2.0 .* x .+ 1.0 .+ 0.1 .* rand(100)                \n",
    "\n",
    "# Prepare input data and the its target.\n",
    "Y = reshape(y, length(y), 1)            "
   ]
  },
  {
   "cell_type": "code",
   "execution_count": null,
   "id": "26bacd2e-4af8-4ff4-bf60-61d13a6b8384",
   "metadata": {},
   "outputs": [],
   "source": [
    "# Fit the dnn to this data.\n",
    "fit(dnn, Y, Y, N=5000, relerr=1.0e-4, μ=0.0001, verbose=false)                  \n",
    "\n",
    "println(\"y = $y\")                                                               \n",
    "println(\"dnn(y) = $(map(x -> x.v, dnn(y)))\")                                    "
   ]
  },
  {
   "cell_type": "markdown",
   "id": "b6204db0-613f-4990-8991-b70f2fe732b8",
   "metadata": {},
   "source": [
    "### Plot the Results of Auto-Encoder Approximation"
   ]
  },
  {
   "cell_type": "code",
   "execution_count": null,
   "id": "8a2ff131-c3f4-4a57-88c2-5154f2d04993",
   "metadata": {},
   "outputs": [],
   "source": [
    "# Do a plot of the original function, y, and the DNN approximation.\n",
    "plot(x,y, color=:blue, label=\"Original\", title=\"Signal and Auto-Encoder Recovery\", xlabel=\"X\", ylabel=\"Y\")\n",
    "plot!(x, map(x -> x.v, dnn(y)), color=:red, label=\"Deep Learning Approx\")"
   ]
  }
 ],
 "metadata": {
  "kernelspec": {
   "display_name": "Julia 1.10.0",
   "language": "julia",
   "name": "julia-1.10"
  },
  "language_info": {
   "file_extension": ".jl",
   "mimetype": "application/julia",
   "name": "julia",
   "version": "1.10.4"
  }
 },
 "nbformat": 4,
 "nbformat_minor": 5
}
